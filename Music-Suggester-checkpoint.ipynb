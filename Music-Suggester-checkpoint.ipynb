{
 "cells": [
  {
   "cell_type": "code",
   "execution_count": 102,
   "id": "54f2a078",
   "metadata": {},
   "outputs": [],
   "source": [
    "import pandas as pd\n",
    "from sklearn.tree import DecisionTreeClassifier    # sklearn package from scikit-learn, tree module, class DecisionTreeClassifier  \n",
    "from sklearn import tree  # tree object has a method for exporting our decision tree in a graphical format\n",
    "\n",
    "music_df = pd.read_csv('music.csv')\n",
    "X = music_df.drop(columns=['genre'])\n",
    "y = music_df['genre']\n",
    "\n",
    "\n",
    "model = DecisionTreeClassifier()    # model\n",
    "model.fit(X.values, y)\n",
    "\n",
    "\n",
    "tree.export_graphviz(model, out_file='music-recommender.dot', \n",
    "                     feature_names=['age', 'gender'], \n",
    "                     class_names=sorted(y.unique()), \n",
    "                     label='all', \n",
    "                     rounded=True,\n",
    "                     filled=True)"
   ]
  },
  {
   "cell_type": "code",
   "execution_count": null,
   "id": "458511ed",
   "metadata": {},
   "outputs": [],
   "source": []
  }
 ],
 "metadata": {
  "kernelspec": {
   "display_name": "Python 3 (ipykernel)",
   "language": "python",
   "name": "python3"
  },
  "language_info": {
   "codemirror_mode": {
    "name": "ipython",
    "version": 3
   },
   "file_extension": ".py",
   "mimetype": "text/x-python",
   "name": "python",
   "nbconvert_exporter": "python",
   "pygments_lexer": "ipython3",
   "version": "3.9.13"
  }
 },
 "nbformat": 4,
 "nbformat_minor": 5
}
