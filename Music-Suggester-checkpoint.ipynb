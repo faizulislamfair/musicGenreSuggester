{
 "cells": [
  {
   "cell_type": "code",
   "execution_count": 93,
   "id": "7bb6d954",
   "metadata": {},
   "outputs": [
    {
     "data": {
      "text/plain": [
       "1.0"
      ]
     },
     "execution_count": 93,
     "metadata": {},
     "output_type": "execute_result"
    }
   ],
   "source": [
    "import pandas as pd\n",
    "from sklearn.tree import DecisionTreeClassifier    # sklearn package from scikit-learn, tree module, class DecisionTreeClassifier  \n",
    "from sklearn.model_selection import train_test_split\n",
    "from sklearn.metrics import accuracy_score\n",
    "\n",
    "\n",
    "music_df = pd.read_csv('music.csv')\n",
    "X = music_df.drop(columns=['genre'])\n",
    "y = music_df['genre']\n",
    "X_train, X_test, y_train, y_test = train_test_split(X, y, test_size=0.2)   # allocating 20% of the data for testing\n",
    "\n",
    "\n",
    "model = DecisionTreeClassifier()    # model\n",
    "model.fit(X_train, y_train)\n",
    "predictions = model.predict(X_test)      # 2D array\n",
    "\n",
    "score = accuracy_score(y_test, predictions)    # (expected values, actual values) \n",
    "score"
   ]
  }
 ],
 "metadata": {
  "kernelspec": {
   "display_name": "Python 3 (ipykernel)",
   "language": "python",
   "name": "python3"
  },
  "language_info": {
   "codemirror_mode": {
    "name": "ipython",
    "version": 3
   },
   "file_extension": ".py",
   "mimetype": "text/x-python",
   "name": "python",
   "nbconvert_exporter": "python",
   "pygments_lexer": "ipython3",
   "version": "3.9.13"
  }
 },
 "nbformat": 4,
 "nbformat_minor": 5
}
