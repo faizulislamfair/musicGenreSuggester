{
 "cells": [
  {
   "cell_type": "code",
   "execution_count": 101,
   "id": "a2ae2aaa",
   "metadata": {},
   "outputs": [
    {
     "data": {
      "text/plain": [
       "array(['HipHop'], dtype=object)"
      ]
     },
     "execution_count": 101,
     "metadata": {},
     "output_type": "execute_result"
    }
   ],
   "source": [
    "import pandas as pd\n",
    "from sklearn.tree import DecisionTreeClassifier    # sklearn package from scikit-learn, tree module, class DecisionTreeClassifier  \n",
    "import joblib    # joblib object has methods for saving and loading models\n",
    "\n",
    "\n",
    "# music_df = pd.read_csv('music.csv')\n",
    "# X = music_df.drop(columns=['genre'])\n",
    "# y = music_df['genre']\n",
    "\n",
    "\n",
    "# model = DecisionTreeClassifier()    # model\n",
    "# model.fit(X.values, y)\n",
    "\n",
    "model = joblib.load('music-recommender.joblib')      # first dump then load\n",
    "predictions = model.predict([ [21, 1] ])      # 2D array\n",
    "predictions"
   ]
  },
  {
   "cell_type": "code",
   "execution_count": null,
   "id": "cb4f016f",
   "metadata": {},
   "outputs": [],
   "source": []
  }
 ],
 "metadata": {
  "kernelspec": {
   "display_name": "Python 3 (ipykernel)",
   "language": "python",
   "name": "python3"
  },
  "language_info": {
   "codemirror_mode": {
    "name": "ipython",
    "version": 3
   },
   "file_extension": ".py",
   "mimetype": "text/x-python",
   "name": "python",
   "nbconvert_exporter": "python",
   "pygments_lexer": "ipython3",
   "version": "3.9.13"
  }
 },
 "nbformat": 4,
 "nbformat_minor": 5
}
